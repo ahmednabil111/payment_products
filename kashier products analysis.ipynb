{
 "cells": [
  {
   "cell_type": "markdown",
   "id": "4c502a10",
   "metadata": {},
   "source": [
    "IMPORTING LIBRARIES"
   ]
  },
  {
   "cell_type": "code",
   "execution_count": 1,
   "id": "b25a799b",
   "metadata": {},
   "outputs": [],
   "source": [
    "import pandas as pd\n",
    "import numpy as np\n",
    "import matplotlib.pyplot as plt\n",
    "import seaborn as sns"
   ]
  },
  {
   "cell_type": "markdown",
   "id": "da785a52",
   "metadata": {},
   "source": [
    "READ DATASETS"
   ]
  },
  {
   "cell_type": "code",
   "execution_count": 2,
   "id": "8efe6411",
   "metadata": {},
   "outputs": [],
   "source": [
    "# read files and make one dataframe\n",
    "df1=pd.read_csv('dataset_1.csv')\n",
    "df2=pd.read_csv('dataset_2.csv')\n",
    "df3=pd.read_csv('dataset_3.csv')\n",
    "df=pd.concat([df1, df2, df3], ignore_index=True)"
   ]
  },
  {
   "cell_type": "markdown",
   "id": "1c1720f7",
   "metadata": {},
   "source": [
    "EXPLORING DATA"
   ]
  },
  {
   "cell_type": "code",
   "execution_count": 3,
   "id": "bd3a025b",
   "metadata": {},
   "outputs": [
    {
     "data": {
      "text/html": [
       "<div>\n",
       "<style scoped>\n",
       "    .dataframe tbody tr th:only-of-type {\n",
       "        vertical-align: middle;\n",
       "    }\n",
       "\n",
       "    .dataframe tbody tr th {\n",
       "        vertical-align: top;\n",
       "    }\n",
       "\n",
       "    .dataframe thead th {\n",
       "        text-align: right;\n",
       "    }\n",
       "</style>\n",
       "<table border=\"1\" class=\"dataframe\">\n",
       "  <thead>\n",
       "    <tr style=\"text-align: right;\">\n",
       "      <th></th>\n",
       "      <th>Unnamed: 0</th>\n",
       "      <th>index</th>\n",
       "      <th>date</th>\n",
       "      <th>amount</th>\n",
       "      <th>transaction_id</th>\n",
       "      <th>rate</th>\n",
       "      <th>flat_fee</th>\n",
       "      <th>product</th>\n",
       "    </tr>\n",
       "  </thead>\n",
       "  <tbody>\n",
       "    <tr>\n",
       "      <th>28589</th>\n",
       "      <td>28589</td>\n",
       "      <td>141576</td>\n",
       "      <td>21/12/2022 11:48:31</td>\n",
       "      <td>1865</td>\n",
       "      <td>pp_1671623311014783865</td>\n",
       "      <td>0.025</td>\n",
       "      <td>2.0</td>\n",
       "      <td>pp</td>\n",
       "    </tr>\n",
       "    <tr>\n",
       "      <th>35294</th>\n",
       "      <td>35294</td>\n",
       "      <td>123861</td>\n",
       "      <td>11/07/2021 14:30:34</td>\n",
       "      <td>164</td>\n",
       "      <td>pp_1626013834247211164</td>\n",
       "      <td>0.025</td>\n",
       "      <td>2.0</td>\n",
       "      <td>pp</td>\n",
       "    </tr>\n",
       "    <tr>\n",
       "      <th>130353</th>\n",
       "      <td>130353</td>\n",
       "      <td>107516</td>\n",
       "      <td>18/05/2022 10:50:43</td>\n",
       "      <td>834</td>\n",
       "      <td>pr_1652871042977137834</td>\n",
       "      <td>0.030</td>\n",
       "      <td>0.0</td>\n",
       "      <td>pr</td>\n",
       "    </tr>\n",
       "    <tr>\n",
       "      <th>128895</th>\n",
       "      <td>128895</td>\n",
       "      <td>104698</td>\n",
       "      <td>04/04/2022 10:50:30</td>\n",
       "      <td>188</td>\n",
       "      <td>pr_1649069429635822188</td>\n",
       "      <td>0.030</td>\n",
       "      <td>0.0</td>\n",
       "      <td>pr</td>\n",
       "    </tr>\n",
       "    <tr>\n",
       "      <th>33470</th>\n",
       "      <td>33470</td>\n",
       "      <td>138679</td>\n",
       "      <td>11/10/2022 16:43:36</td>\n",
       "      <td>1337</td>\n",
       "      <td>pp_1665506615611399337</td>\n",
       "      <td>0.025</td>\n",
       "      <td>2.0</td>\n",
       "      <td>pp</td>\n",
       "    </tr>\n",
       "    <tr>\n",
       "      <th>99942</th>\n",
       "      <td>99942</td>\n",
       "      <td>60514</td>\n",
       "      <td>11/10/2022 10:20:34</td>\n",
       "      <td>142</td>\n",
       "      <td>pos_1665483634389667142</td>\n",
       "      <td>0.010</td>\n",
       "      <td>2.0</td>\n",
       "      <td>pos</td>\n",
       "    </tr>\n",
       "    <tr>\n",
       "      <th>107530</th>\n",
       "      <td>107530</td>\n",
       "      <td>77930</td>\n",
       "      <td>19/12/2022 13:22:12</td>\n",
       "      <td>168</td>\n",
       "      <td>pos_1671456131726977168</td>\n",
       "      <td>0.010</td>\n",
       "      <td>2.0</td>\n",
       "      <td>pos</td>\n",
       "    </tr>\n",
       "    <tr>\n",
       "      <th>132665</th>\n",
       "      <td>132665</td>\n",
       "      <td>138176</td>\n",
       "      <td>28/09/2022 10:26:46</td>\n",
       "      <td>1517</td>\n",
       "      <td>pp_1664360805684757517</td>\n",
       "      <td>0.025</td>\n",
       "      <td>2.0</td>\n",
       "      <td>pp</td>\n",
       "    </tr>\n",
       "    <tr>\n",
       "      <th>62863</th>\n",
       "      <td>62863</td>\n",
       "      <td>65957</td>\n",
       "      <td>05/11/2022 05:33:50</td>\n",
       "      <td>152</td>\n",
       "      <td>pos_1667626429684360152</td>\n",
       "      <td>0.010</td>\n",
       "      <td>2.0</td>\n",
       "      <td>pos</td>\n",
       "    </tr>\n",
       "    <tr>\n",
       "      <th>88978</th>\n",
       "      <td>88978</td>\n",
       "      <td>27072</td>\n",
       "      <td>11/07/2022 11:01:16</td>\n",
       "      <td>201</td>\n",
       "      <td>pos_1657537275751588201</td>\n",
       "      <td>0.010</td>\n",
       "      <td>2.0</td>\n",
       "      <td>pos</td>\n",
       "    </tr>\n",
       "    <tr>\n",
       "      <th>63158</th>\n",
       "      <td>63158</td>\n",
       "      <td>135314</td>\n",
       "      <td>28/07/2022 13:22:12</td>\n",
       "      <td>264</td>\n",
       "      <td>pp_1659014532280600264</td>\n",
       "      <td>0.025</td>\n",
       "      <td>2.0</td>\n",
       "      <td>pp</td>\n",
       "    </tr>\n",
       "    <tr>\n",
       "      <th>35788</th>\n",
       "      <td>35788</td>\n",
       "      <td>64747</td>\n",
       "      <td>30/10/2022 10:16:24</td>\n",
       "      <td>316</td>\n",
       "      <td>pos_1667124983780664316</td>\n",
       "      <td>0.010</td>\n",
       "      <td>2.0</td>\n",
       "      <td>pos</td>\n",
       "    </tr>\n",
       "    <tr>\n",
       "      <th>54035</th>\n",
       "      <td>54035</td>\n",
       "      <td>57700</td>\n",
       "      <td>28/09/2022 08:34:52</td>\n",
       "      <td>33</td>\n",
       "      <td>pos_1664354092179534033</td>\n",
       "      <td>0.010</td>\n",
       "      <td>2.0</td>\n",
       "      <td>pos</td>\n",
       "    </tr>\n",
       "    <tr>\n",
       "      <th>43344</th>\n",
       "      <td>43344</td>\n",
       "      <td>120494</td>\n",
       "      <td>18/12/2022 15:58:35</td>\n",
       "      <td>1150</td>\n",
       "      <td>pr_1671379115034419150</td>\n",
       "      <td>0.030</td>\n",
       "      <td>0.0</td>\n",
       "      <td>pr</td>\n",
       "    </tr>\n",
       "    <tr>\n",
       "      <th>63191</th>\n",
       "      <td>63191</td>\n",
       "      <td>29662</td>\n",
       "      <td>29/07/2022 18:33:50</td>\n",
       "      <td>168</td>\n",
       "      <td>pos_1659119629960157168</td>\n",
       "      <td>0.010</td>\n",
       "      <td>2.0</td>\n",
       "      <td>pos</td>\n",
       "    </tr>\n",
       "  </tbody>\n",
       "</table>\n",
       "</div>"
      ],
      "text/plain": [
       "        Unnamed: 0   index                 date  amount  \\\n",
       "28589        28589  141576  21/12/2022 11:48:31    1865   \n",
       "35294        35294  123861  11/07/2021 14:30:34     164   \n",
       "130353      130353  107516  18/05/2022 10:50:43     834   \n",
       "128895      128895  104698  04/04/2022 10:50:30     188   \n",
       "33470        33470  138679  11/10/2022 16:43:36    1337   \n",
       "99942        99942   60514  11/10/2022 10:20:34     142   \n",
       "107530      107530   77930  19/12/2022 13:22:12     168   \n",
       "132665      132665  138176  28/09/2022 10:26:46    1517   \n",
       "62863        62863   65957  05/11/2022 05:33:50     152   \n",
       "88978        88978   27072  11/07/2022 11:01:16     201   \n",
       "63158        63158  135314  28/07/2022 13:22:12     264   \n",
       "35788        35788   64747  30/10/2022 10:16:24     316   \n",
       "54035        54035   57700  28/09/2022 08:34:52      33   \n",
       "43344        43344  120494  18/12/2022 15:58:35    1150   \n",
       "63191        63191   29662  29/07/2022 18:33:50     168   \n",
       "\n",
       "                 transaction_id   rate  flat_fee product  \n",
       "28589    pp_1671623311014783865  0.025       2.0      pp  \n",
       "35294    pp_1626013834247211164  0.025       2.0      pp  \n",
       "130353   pr_1652871042977137834  0.030       0.0      pr  \n",
       "128895   pr_1649069429635822188  0.030       0.0      pr  \n",
       "33470    pp_1665506615611399337  0.025       2.0      pp  \n",
       "99942   pos_1665483634389667142  0.010       2.0     pos  \n",
       "107530  pos_1671456131726977168  0.010       2.0     pos  \n",
       "132665   pp_1664360805684757517  0.025       2.0      pp  \n",
       "62863   pos_1667626429684360152  0.010       2.0     pos  \n",
       "88978   pos_1657537275751588201  0.010       2.0     pos  \n",
       "63158    pp_1659014532280600264  0.025       2.0      pp  \n",
       "35788   pos_1667124983780664316  0.010       2.0     pos  \n",
       "54035   pos_1664354092179534033  0.010       2.0     pos  \n",
       "43344    pr_1671379115034419150  0.030       0.0      pr  \n",
       "63191   pos_1659119629960157168  0.010       2.0     pos  "
      ]
     },
     "execution_count": 3,
     "metadata": {},
     "output_type": "execute_result"
    }
   ],
   "source": [
    "df.sample(15)"
   ]
  },
  {
   "cell_type": "code",
   "execution_count": 4,
   "id": "e3f3660a",
   "metadata": {},
   "outputs": [
    {
     "name": "stdout",
     "output_type": "stream",
     "text": [
      "<class 'pandas.core.frame.DataFrame'>\n",
      "RangeIndex: 142010 entries, 0 to 142009\n",
      "Data columns (total 8 columns):\n",
      " #   Column          Non-Null Count   Dtype  \n",
      "---  ------          --------------   -----  \n",
      " 0   Unnamed: 0      142010 non-null  int64  \n",
      " 1   index           142010 non-null  int64  \n",
      " 2   date            142010 non-null  object \n",
      " 3   amount          142010 non-null  int64  \n",
      " 4   transaction_id  142010 non-null  object \n",
      " 5   rate            140787 non-null  float64\n",
      " 6   flat_fee        140787 non-null  float64\n",
      " 7   product         142010 non-null  object \n",
      "dtypes: float64(2), int64(3), object(3)\n",
      "memory usage: 8.7+ MB\n"
     ]
    }
   ],
   "source": [
    "df.info()"
   ]
  },
  {
   "cell_type": "code",
   "execution_count": 5,
   "id": "38ca0630",
   "metadata": {},
   "outputs": [
    {
     "data": {
      "text/plain": [
       "Unnamed: 0        142010\n",
       "index             142010\n",
       "date              124412\n",
       "amount              3535\n",
       "transaction_id    124634\n",
       "rate                   3\n",
       "flat_fee               2\n",
       "product                3\n",
       "dtype: int64"
      ]
     },
     "execution_count": 5,
     "metadata": {},
     "output_type": "execute_result"
    }
   ],
   "source": [
    "df.nunique()"
   ]
  },
  {
   "cell_type": "markdown",
   "id": "43d30e2d",
   "metadata": {},
   "source": [
    "DATA CLEANING"
   ]
  },
  {
   "cell_type": "code",
   "execution_count": 6,
   "id": "361d3891",
   "metadata": {},
   "outputs": [],
   "source": [
    "#validate date type and choose year 2021 only\n",
    "df['date'] = pd.to_datetime(df['date'])\n",
    "df_2021 = df[df['date'].dt.year == 2021]"
   ]
  },
  {
   "cell_type": "code",
   "execution_count": 7,
   "id": "468f5beb",
   "metadata": {},
   "outputs": [
    {
     "data": {
      "text/plain": [
       "count    3.329500e+04\n",
       "mean     1.031458e+08\n",
       "std      1.206273e+09\n",
       "min      5.000000e+00\n",
       "25%      1.410000e+02\n",
       "50%      5.040000e+02\n",
       "75%      1.253000e+03\n",
       "max      3.212323e+10\n",
       "Name: amount, dtype: float64"
      ]
     },
     "execution_count": 7,
     "metadata": {},
     "output_type": "execute_result"
    }
   ],
   "source": [
    "#checking amount values\n",
    "df_2021['amount'].describe()"
   ]
  },
  {
   "cell_type": "code",
   "execution_count": 8,
   "id": "ac88f4ca",
   "metadata": {},
   "outputs": [
    {
     "data": {
      "text/html": [
       "<div>\n",
       "<style scoped>\n",
       "    .dataframe tbody tr th:only-of-type {\n",
       "        vertical-align: middle;\n",
       "    }\n",
       "\n",
       "    .dataframe tbody tr th {\n",
       "        vertical-align: top;\n",
       "    }\n",
       "\n",
       "    .dataframe thead th {\n",
       "        text-align: right;\n",
       "    }\n",
       "</style>\n",
       "<table border=\"1\" class=\"dataframe\">\n",
       "  <thead>\n",
       "    <tr style=\"text-align: right;\">\n",
       "      <th></th>\n",
       "      <th>Unnamed: 0</th>\n",
       "      <th>index</th>\n",
       "      <th>date</th>\n",
       "      <th>amount</th>\n",
       "      <th>transaction_id</th>\n",
       "      <th>rate</th>\n",
       "      <th>flat_fee</th>\n",
       "      <th>product</th>\n",
       "    </tr>\n",
       "  </thead>\n",
       "  <tbody>\n",
       "    <tr>\n",
       "      <th>32260</th>\n",
       "      <td>32260</td>\n",
       "      <td>124552</td>\n",
       "      <td>2021-08-16 13:11:49</td>\n",
       "      <td>32123232323</td>\n",
       "      <td>pp_1629119509402532298</td>\n",
       "      <td>0.025</td>\n",
       "      <td>2.0</td>\n",
       "      <td>pp</td>\n",
       "    </tr>\n",
       "    <tr>\n",
       "      <th>106538</th>\n",
       "      <td>106538</td>\n",
       "      <td>83649</td>\n",
       "      <td>2021-10-02 18:13:43</td>\n",
       "      <td>31232323238</td>\n",
       "      <td>pr_1612980823415370988</td>\n",
       "      <td>0.030</td>\n",
       "      <td>0.0</td>\n",
       "      <td>pr</td>\n",
       "    </tr>\n",
       "    <tr>\n",
       "      <th>8897</th>\n",
       "      <td>8897</td>\n",
       "      <td>89129</td>\n",
       "      <td>2021-06-14 14:29:29</td>\n",
       "      <td>31123232323</td>\n",
       "      <td>pr_1623680968904613198</td>\n",
       "      <td>0.030</td>\n",
       "      <td>0.0</td>\n",
       "      <td>pr</td>\n",
       "    </tr>\n",
       "    <tr>\n",
       "      <th>123613</th>\n",
       "      <td>123613</td>\n",
       "      <td>90090</td>\n",
       "      <td>2021-04-07 15:10:58</td>\n",
       "      <td>31123232323</td>\n",
       "      <td>pr_1625411458131356198</td>\n",
       "      <td>0.030</td>\n",
       "      <td>0.0</td>\n",
       "      <td>pr</td>\n",
       "    </tr>\n",
       "    <tr>\n",
       "      <th>133031</th>\n",
       "      <td>133031</td>\n",
       "      <td>87277</td>\n",
       "      <td>2021-05-05 08:48:55</td>\n",
       "      <td>30123232323</td>\n",
       "      <td>pr_1620204534916616098</td>\n",
       "      <td>0.030</td>\n",
       "      <td>0.0</td>\n",
       "      <td>pr</td>\n",
       "    </tr>\n",
       "    <tr>\n",
       "      <th>2</th>\n",
       "      <td>2</td>\n",
       "      <td>89439</td>\n",
       "      <td>2021-06-20 03:27:30</td>\n",
       "      <td>29123232323</td>\n",
       "      <td>pr_1624159650069115998</td>\n",
       "      <td>0.030</td>\n",
       "      <td>0.0</td>\n",
       "      <td>pr</td>\n",
       "    </tr>\n",
       "    <tr>\n",
       "      <th>88056</th>\n",
       "      <td>88056</td>\n",
       "      <td>85386</td>\n",
       "      <td>2021-03-22 06:30:06</td>\n",
       "      <td>29123232323</td>\n",
       "      <td>pr_1616394605976132998</td>\n",
       "      <td>0.030</td>\n",
       "      <td>0.0</td>\n",
       "      <td>pr</td>\n",
       "    </tr>\n",
       "    <tr>\n",
       "      <th>11663</th>\n",
       "      <td>11663</td>\n",
       "      <td>89382</td>\n",
       "      <td>2021-06-19 22:14:07</td>\n",
       "      <td>27123232323</td>\n",
       "      <td>pr_1624140847393238798</td>\n",
       "      <td>0.030</td>\n",
       "      <td>0.0</td>\n",
       "      <td>pr</td>\n",
       "    </tr>\n",
       "    <tr>\n",
       "      <th>126294</th>\n",
       "      <td>126294</td>\n",
       "      <td>122999</td>\n",
       "      <td>2021-05-18 04:05:14</td>\n",
       "      <td>27123232323</td>\n",
       "      <td>pp_1621310714253272798</td>\n",
       "      <td>0.025</td>\n",
       "      <td>2.0</td>\n",
       "      <td>pp</td>\n",
       "    </tr>\n",
       "    <tr>\n",
       "      <th>92845</th>\n",
       "      <td>92845</td>\n",
       "      <td>89913</td>\n",
       "      <td>2021-06-30 21:56:49</td>\n",
       "      <td>26123232323</td>\n",
       "      <td>pr_1625090209106376698</td>\n",
       "      <td>0.030</td>\n",
       "      <td>0.0</td>\n",
       "      <td>pr</td>\n",
       "    </tr>\n",
       "    <tr>\n",
       "      <th>66362</th>\n",
       "      <td>66362</td>\n",
       "      <td>85533</td>\n",
       "      <td>2021-03-25 15:37:19</td>\n",
       "      <td>24123232323</td>\n",
       "      <td>pr_1616686638661054498</td>\n",
       "      <td>0.030</td>\n",
       "      <td>0.0</td>\n",
       "      <td>pr</td>\n",
       "    </tr>\n",
       "    <tr>\n",
       "      <th>73167</th>\n",
       "      <td>73167</td>\n",
       "      <td>126106</td>\n",
       "      <td>2021-10-28 09:05:43</td>\n",
       "      <td>24123232323</td>\n",
       "      <td>pp_1635411942655560498</td>\n",
       "      <td>0.025</td>\n",
       "      <td>2.0</td>\n",
       "      <td>pp</td>\n",
       "    </tr>\n",
       "    <tr>\n",
       "      <th>32612</th>\n",
       "      <td>32612</td>\n",
       "      <td>83578</td>\n",
       "      <td>2021-09-02 18:04:34</td>\n",
       "      <td>24123232323</td>\n",
       "      <td>pr_1612893873955186498</td>\n",
       "      <td>0.030</td>\n",
       "      <td>0.0</td>\n",
       "      <td>pr</td>\n",
       "    </tr>\n",
       "    <tr>\n",
       "      <th>47487</th>\n",
       "      <td>47487</td>\n",
       "      <td>82037</td>\n",
       "      <td>2021-03-01 10:37:50</td>\n",
       "      <td>23123232323</td>\n",
       "      <td>pr_1609670269711207398</td>\n",
       "      <td>0.030</td>\n",
       "      <td>0.0</td>\n",
       "      <td>pr</td>\n",
       "    </tr>\n",
       "    <tr>\n",
       "      <th>92651</th>\n",
       "      <td>92651</td>\n",
       "      <td>84130</td>\n",
       "      <td>2021-02-21 09:44:18</td>\n",
       "      <td>23123232323</td>\n",
       "      <td>pr_1613900657577830398</td>\n",
       "      <td>0.030</td>\n",
       "      <td>0.0</td>\n",
       "      <td>pr</td>\n",
       "    </tr>\n",
       "  </tbody>\n",
       "</table>\n",
       "</div>"
      ],
      "text/plain": [
       "        Unnamed: 0   index                date       amount  \\\n",
       "32260        32260  124552 2021-08-16 13:11:49  32123232323   \n",
       "106538      106538   83649 2021-10-02 18:13:43  31232323238   \n",
       "8897          8897   89129 2021-06-14 14:29:29  31123232323   \n",
       "123613      123613   90090 2021-04-07 15:10:58  31123232323   \n",
       "133031      133031   87277 2021-05-05 08:48:55  30123232323   \n",
       "2                2   89439 2021-06-20 03:27:30  29123232323   \n",
       "88056        88056   85386 2021-03-22 06:30:06  29123232323   \n",
       "11663        11663   89382 2021-06-19 22:14:07  27123232323   \n",
       "126294      126294  122999 2021-05-18 04:05:14  27123232323   \n",
       "92845        92845   89913 2021-06-30 21:56:49  26123232323   \n",
       "66362        66362   85533 2021-03-25 15:37:19  24123232323   \n",
       "73167        73167  126106 2021-10-28 09:05:43  24123232323   \n",
       "32612        32612   83578 2021-09-02 18:04:34  24123232323   \n",
       "47487        47487   82037 2021-03-01 10:37:50  23123232323   \n",
       "92651        92651   84130 2021-02-21 09:44:18  23123232323   \n",
       "\n",
       "                transaction_id   rate  flat_fee product  \n",
       "32260   pp_1629119509402532298  0.025       2.0      pp  \n",
       "106538  pr_1612980823415370988  0.030       0.0      pr  \n",
       "8897    pr_1623680968904613198  0.030       0.0      pr  \n",
       "123613  pr_1625411458131356198  0.030       0.0      pr  \n",
       "133031  pr_1620204534916616098  0.030       0.0      pr  \n",
       "2       pr_1624159650069115998  0.030       0.0      pr  \n",
       "88056   pr_1616394605976132998  0.030       0.0      pr  \n",
       "11663   pr_1624140847393238798  0.030       0.0      pr  \n",
       "126294  pp_1621310714253272798  0.025       2.0      pp  \n",
       "92845   pr_1625090209106376698  0.030       0.0      pr  \n",
       "66362   pr_1616686638661054498  0.030       0.0      pr  \n",
       "73167   pp_1635411942655560498  0.025       2.0      pp  \n",
       "32612   pr_1612893873955186498  0.030       0.0      pr  \n",
       "47487   pr_1609670269711207398  0.030       0.0      pr  \n",
       "92651   pr_1613900657577830398  0.030       0.0      pr  "
      ]
     },
     "execution_count": 8,
     "metadata": {},
     "output_type": "execute_result"
    }
   ],
   "source": [
    "# sort amount column to find outliers\n",
    "df_2021=df_2021.sort_values('amount',ascending=False)\n",
    "top_amounts=df_2021.head(15)\n",
    "top_amounts"
   ]
  },
  {
   "cell_type": "code",
   "execution_count": 9,
   "id": "f93c7445",
   "metadata": {},
   "outputs": [],
   "source": [
    "#delete all rows with amount bigger than 500K because there is no online payment bigger than 500K\n",
    "df_2021=df_2021.loc[df['amount'] < 500000]"
   ]
  },
  {
   "cell_type": "code",
   "execution_count": 10,
   "id": "7ef9ec37",
   "metadata": {},
   "outputs": [
    {
     "data": {
      "text/plain": [
       "count    32785.000000\n",
       "mean       762.476986\n",
       "std        768.469269\n",
       "min          5.000000\n",
       "25%        139.000000\n",
       "50%        484.000000\n",
       "75%       1212.000000\n",
       "max       4941.000000\n",
       "Name: amount, dtype: float64"
      ]
     },
     "execution_count": 10,
     "metadata": {},
     "output_type": "execute_result"
    }
   ],
   "source": [
    "df_2021['amount'].describe()"
   ]
  },
  {
   "cell_type": "code",
   "execution_count": 11,
   "id": "1497f4af",
   "metadata": {
    "scrolled": true
   },
   "outputs": [],
   "source": [
    "#delete unnecessary columns\n",
    "df_2021=df_2021.drop(df_2021.columns[0], axis=1)\n",
    "df_2021=df_2021.drop('index',axis=1)"
   ]
  },
  {
   "cell_type": "code",
   "execution_count": 12,
   "id": "f4c13c2f",
   "metadata": {},
   "outputs": [
    {
     "data": {
      "text/plain": [
       "date              0\n",
       "amount            0\n",
       "transaction_id    0\n",
       "rate              0\n",
       "flat_fee          0\n",
       "product           0\n",
       "dtype: int64"
      ]
     },
     "execution_count": 12,
     "metadata": {},
     "output_type": "execute_result"
    }
   ],
   "source": [
    "#checking for null values\n",
    "df_2021.isnull().sum()"
   ]
  },
  {
   "cell_type": "code",
   "execution_count": 13,
   "id": "4c6f6b99",
   "metadata": {},
   "outputs": [
    {
     "data": {
      "text/plain": [
       "0"
      ]
     },
     "execution_count": 13,
     "metadata": {},
     "output_type": "execute_result"
    }
   ],
   "source": [
    "#checking for duplicated rows\n",
    "df.duplicated().sum()"
   ]
  },
  {
   "cell_type": "code",
   "execution_count": 14,
   "id": "24ca3b22",
   "metadata": {},
   "outputs": [],
   "source": [
    "#add two columns to rate fee and total fees\n",
    "df_2021['rate_fee']=df_2021['amount']*df_2021['rate'] \n",
    "df_2021['total_fees']=df_2021['flat_fee']+df_2021['rate_fee'] "
   ]
  },
  {
   "cell_type": "code",
   "execution_count": 15,
   "id": "6f6205fd",
   "metadata": {},
   "outputs": [
    {
     "data": {
      "text/html": [
       "<div>\n",
       "<style scoped>\n",
       "    .dataframe tbody tr th:only-of-type {\n",
       "        vertical-align: middle;\n",
       "    }\n",
       "\n",
       "    .dataframe tbody tr th {\n",
       "        vertical-align: top;\n",
       "    }\n",
       "\n",
       "    .dataframe thead th {\n",
       "        text-align: right;\n",
       "    }\n",
       "</style>\n",
       "<table border=\"1\" class=\"dataframe\">\n",
       "  <thead>\n",
       "    <tr style=\"text-align: right;\">\n",
       "      <th></th>\n",
       "      <th>date</th>\n",
       "      <th>amount</th>\n",
       "      <th>transaction_id</th>\n",
       "      <th>rate</th>\n",
       "      <th>flat_fee</th>\n",
       "      <th>product</th>\n",
       "      <th>rate_fee</th>\n",
       "      <th>total_fees</th>\n",
       "    </tr>\n",
       "  </thead>\n",
       "  <tbody>\n",
       "    <tr>\n",
       "      <th>72359</th>\n",
       "      <td>2021-01-01 00:11:30</td>\n",
       "      <td>79</td>\n",
       "      <td>pos_1609459889978113079</td>\n",
       "      <td>0.010</td>\n",
       "      <td>2.0</td>\n",
       "      <td>pos</td>\n",
       "      <td>0.79</td>\n",
       "      <td>2.79</td>\n",
       "    </tr>\n",
       "    <tr>\n",
       "      <th>22413</th>\n",
       "      <td>2021-01-01 00:29:00</td>\n",
       "      <td>900</td>\n",
       "      <td>pr_1609460939891215900</td>\n",
       "      <td>0.030</td>\n",
       "      <td>0.0</td>\n",
       "      <td>pr</td>\n",
       "      <td>27.00</td>\n",
       "      <td>27.00</td>\n",
       "    </tr>\n",
       "    <tr>\n",
       "      <th>47631</th>\n",
       "      <td>2021-01-01 00:43:41</td>\n",
       "      <td>391</td>\n",
       "      <td>pr_1609461820704721391</td>\n",
       "      <td>0.030</td>\n",
       "      <td>0.0</td>\n",
       "      <td>pr</td>\n",
       "      <td>11.73</td>\n",
       "      <td>11.73</td>\n",
       "    </tr>\n",
       "    <tr>\n",
       "      <th>135293</th>\n",
       "      <td>2021-01-01 03:14:48</td>\n",
       "      <td>637</td>\n",
       "      <td>pr_1609470887933563637</td>\n",
       "      <td>0.030</td>\n",
       "      <td>0.0</td>\n",
       "      <td>pr</td>\n",
       "      <td>19.11</td>\n",
       "      <td>19.11</td>\n",
       "    </tr>\n",
       "    <tr>\n",
       "      <th>44004</th>\n",
       "      <td>2021-01-01 03:20:11</td>\n",
       "      <td>1312</td>\n",
       "      <td>pr_1609471211063515312</td>\n",
       "      <td>0.030</td>\n",
       "      <td>0.0</td>\n",
       "      <td>pr</td>\n",
       "      <td>39.36</td>\n",
       "      <td>39.36</td>\n",
       "    </tr>\n",
       "    <tr>\n",
       "      <th>...</th>\n",
       "      <td>...</td>\n",
       "      <td>...</td>\n",
       "      <td>...</td>\n",
       "      <td>...</td>\n",
       "      <td>...</td>\n",
       "      <td>...</td>\n",
       "      <td>...</td>\n",
       "      <td>...</td>\n",
       "    </tr>\n",
       "    <tr>\n",
       "      <th>135174</th>\n",
       "      <td>2021-12-31 19:15:19</td>\n",
       "      <td>186</td>\n",
       "      <td>pp_1640978118911381186</td>\n",
       "      <td>0.025</td>\n",
       "      <td>2.0</td>\n",
       "      <td>pp</td>\n",
       "      <td>4.65</td>\n",
       "      <td>6.65</td>\n",
       "    </tr>\n",
       "    <tr>\n",
       "      <th>25344</th>\n",
       "      <td>2021-12-31 19:49:42</td>\n",
       "      <td>92</td>\n",
       "      <td>pos_1640980182137432092</td>\n",
       "      <td>0.010</td>\n",
       "      <td>2.0</td>\n",
       "      <td>pos</td>\n",
       "      <td>0.92</td>\n",
       "      <td>2.92</td>\n",
       "    </tr>\n",
       "    <tr>\n",
       "      <th>134593</th>\n",
       "      <td>2021-12-31 21:00:53</td>\n",
       "      <td>1948</td>\n",
       "      <td>pp_1640984452514475948</td>\n",
       "      <td>0.025</td>\n",
       "      <td>2.0</td>\n",
       "      <td>pp</td>\n",
       "      <td>48.70</td>\n",
       "      <td>50.70</td>\n",
       "    </tr>\n",
       "    <tr>\n",
       "      <th>49712</th>\n",
       "      <td>2021-12-31 21:00:56</td>\n",
       "      <td>111</td>\n",
       "      <td>pos_1640984455618540111</td>\n",
       "      <td>0.010</td>\n",
       "      <td>2.0</td>\n",
       "      <td>pos</td>\n",
       "      <td>1.11</td>\n",
       "      <td>3.11</td>\n",
       "    </tr>\n",
       "    <tr>\n",
       "      <th>109461</th>\n",
       "      <td>2021-12-31 21:53:53</td>\n",
       "      <td>246</td>\n",
       "      <td>pos_1640987632986531246</td>\n",
       "      <td>0.010</td>\n",
       "      <td>2.0</td>\n",
       "      <td>pos</td>\n",
       "      <td>2.46</td>\n",
       "      <td>4.46</td>\n",
       "    </tr>\n",
       "  </tbody>\n",
       "</table>\n",
       "<p>32785 rows × 8 columns</p>\n",
       "</div>"
      ],
      "text/plain": [
       "                      date  amount           transaction_id   rate  flat_fee  \\\n",
       "72359  2021-01-01 00:11:30      79  pos_1609459889978113079  0.010       2.0   \n",
       "22413  2021-01-01 00:29:00     900   pr_1609460939891215900  0.030       0.0   \n",
       "47631  2021-01-01 00:43:41     391   pr_1609461820704721391  0.030       0.0   \n",
       "135293 2021-01-01 03:14:48     637   pr_1609470887933563637  0.030       0.0   \n",
       "44004  2021-01-01 03:20:11    1312   pr_1609471211063515312  0.030       0.0   \n",
       "...                    ...     ...                      ...    ...       ...   \n",
       "135174 2021-12-31 19:15:19     186   pp_1640978118911381186  0.025       2.0   \n",
       "25344  2021-12-31 19:49:42      92  pos_1640980182137432092  0.010       2.0   \n",
       "134593 2021-12-31 21:00:53    1948   pp_1640984452514475948  0.025       2.0   \n",
       "49712  2021-12-31 21:00:56     111  pos_1640984455618540111  0.010       2.0   \n",
       "109461 2021-12-31 21:53:53     246  pos_1640987632986531246  0.010       2.0   \n",
       "\n",
       "       product  rate_fee  total_fees  \n",
       "72359      pos      0.79        2.79  \n",
       "22413       pr     27.00       27.00  \n",
       "47631       pr     11.73       11.73  \n",
       "135293      pr     19.11       19.11  \n",
       "44004       pr     39.36       39.36  \n",
       "...        ...       ...         ...  \n",
       "135174      pp      4.65        6.65  \n",
       "25344      pos      0.92        2.92  \n",
       "134593      pp     48.70       50.70  \n",
       "49712      pos      1.11        3.11  \n",
       "109461     pos      2.46        4.46  \n",
       "\n",
       "[32785 rows x 8 columns]"
      ]
     },
     "execution_count": 15,
     "metadata": {},
     "output_type": "execute_result"
    }
   ],
   "source": [
    "#sort data by date\n",
    "df_2021.sort_values(by='date', inplace=True)\n",
    "df_2021"
   ]
  },
  {
   "cell_type": "markdown",
   "id": "bd99acb6",
   "metadata": {},
   "source": [
    "DATA   ANALYSE AND VISULAIZATION"
   ]
  },
  {
   "cell_type": "code",
   "execution_count": 16,
   "id": "5ada0101",
   "metadata": {},
   "outputs": [
    {
     "data": {
      "text/html": [
       "<div>\n",
       "<style scoped>\n",
       "    .dataframe tbody tr th:only-of-type {\n",
       "        vertical-align: middle;\n",
       "    }\n",
       "\n",
       "    .dataframe tbody tr th {\n",
       "        vertical-align: top;\n",
       "    }\n",
       "\n",
       "    .dataframe thead th {\n",
       "        text-align: right;\n",
       "    }\n",
       "</style>\n",
       "<table border=\"1\" class=\"dataframe\">\n",
       "  <thead>\n",
       "    <tr style=\"text-align: right;\">\n",
       "      <th></th>\n",
       "      <th>count</th>\n",
       "      <th>mean</th>\n",
       "      <th>std</th>\n",
       "      <th>min</th>\n",
       "      <th>25%</th>\n",
       "      <th>50%</th>\n",
       "      <th>75%</th>\n",
       "      <th>max</th>\n",
       "    </tr>\n",
       "    <tr>\n",
       "      <th>product</th>\n",
       "      <th></th>\n",
       "      <th></th>\n",
       "      <th></th>\n",
       "      <th></th>\n",
       "      <th></th>\n",
       "      <th></th>\n",
       "      <th></th>\n",
       "      <th></th>\n",
       "    </tr>\n",
       "  </thead>\n",
       "  <tbody>\n",
       "    <tr>\n",
       "      <th>pos</th>\n",
       "      <td>9540.0</td>\n",
       "      <td>3.141918</td>\n",
       "      <td>0.781593</td>\n",
       "      <td>2.050</td>\n",
       "      <td>2.510</td>\n",
       "      <td>3.030</td>\n",
       "      <td>3.64</td>\n",
       "      <td>6.66</td>\n",
       "    </tr>\n",
       "    <tr>\n",
       "      <th>pp</th>\n",
       "      <td>6133.0</td>\n",
       "      <td>29.800726</td>\n",
       "      <td>19.637249</td>\n",
       "      <td>2.125</td>\n",
       "      <td>13.775</td>\n",
       "      <td>26.425</td>\n",
       "      <td>42.40</td>\n",
       "      <td>112.90</td>\n",
       "    </tr>\n",
       "    <tr>\n",
       "      <th>pr</th>\n",
       "      <td>17112.0</td>\n",
       "      <td>29.958527</td>\n",
       "      <td>22.710367</td>\n",
       "      <td>0.150</td>\n",
       "      <td>11.730</td>\n",
       "      <td>25.110</td>\n",
       "      <td>43.53</td>\n",
       "      <td>148.23</td>\n",
       "    </tr>\n",
       "  </tbody>\n",
       "</table>\n",
       "</div>"
      ],
      "text/plain": [
       "           count       mean        std    min     25%     50%    75%     max\n",
       "product                                                                     \n",
       "pos       9540.0   3.141918   0.781593  2.050   2.510   3.030   3.64    6.66\n",
       "pp        6133.0  29.800726  19.637249  2.125  13.775  26.425  42.40  112.90\n",
       "pr       17112.0  29.958527  22.710367  0.150  11.730  25.110  43.53  148.23"
      ]
     },
     "execution_count": 16,
     "metadata": {},
     "output_type": "execute_result"
    }
   ],
   "source": [
    "df_2021.groupby('product')['total_fees'].describe()"
   ]
  },
  {
   "cell_type": "code",
   "execution_count": 17,
   "id": "c3a4ce74",
   "metadata": {},
   "outputs": [
    {
     "data": {
      "text/plain": [
       "(product\n",
       " pos     29973.90\n",
       " pp     182767.85\n",
       " pr     512650.32\n",
       " Name: total_fees, dtype: float64,\n",
       " product\n",
       " pos    19080.0\n",
       " pp     12266.0\n",
       " pr         0.0\n",
       " Name: flat_fee, dtype: float64,\n",
       " product\n",
       " pos     10893.90\n",
       " pp     170501.85\n",
       " pr     512650.32\n",
       " Name: rate_fee, dtype: float64)"
      ]
     },
     "execution_count": 17,
     "metadata": {},
     "output_type": "execute_result"
    }
   ],
   "source": [
    "#find total fees by each product\n",
    "total_fees = df_2021.groupby('product')['total_fees'].sum()\n",
    "flat_fees_by_product = df_2021.groupby('product')['flat_fee'].sum()\n",
    "rate_fees_by_product = df_2021.groupby('product')['rate_fee'].sum()\n",
    "total_fees,flat_fees_by_product,rate_fees_by_product"
   ]
  },
  {
   "cell_type": "code",
   "execution_count": 18,
   "id": "7a411a1a",
   "metadata": {},
   "outputs": [
    {
     "data": {
      "image/png": "[encoded data removed]",
      "text/plain": [
       "<Figure size 640x480 with 1 Axes>"
      ]
     },
     "metadata": {},
     "output_type": "display_data"
    }
   ],
   "source": [
    "#bar chart of total_fees by each product\n",
    "plt.style.use(\"fivethirtyeight\")\n",
    "plt.bar(total_fees.index,total_fees,color=\"brown\")\n",
    "plt.xlabel('Product')\n",
    "plt.ylabel('total_fees')\n",
    "plt.title('Bar Chart of total_fees by Product')\n",
    "plt.tight_layout\n",
    "plt.show()"
   ]
  },
  {
   "cell_type": "code",
   "execution_count": 19,
   "id": "731f95b0",
   "metadata": {},
   "outputs": [
    {
     "data": {
      "image/png": "[encoded data removed]",
      "text/plain": [
       "<Figure size 640x480 with 1 Axes>"
      ]
     },
     "metadata": {},
     "output_type": "display_data"
    }
   ],
   "source": [
    "#bar chart of flat fees by each product\n",
    "plt.style.use(\"fivethirtyeight\")\n",
    "plt.bar(flat_fees_by_product.index, flat_fees_by_product,color='b')\n",
    "plt.xlabel('Product')\n",
    "plt.ylabel('Flat fee')\n",
    "plt.title('Bar Chart of Flat Fees by Product')\n",
    "plt.tight_layout\n",
    "plt.show()"
   ]
  },
  {
   "cell_type": "code",
   "execution_count": 20,
   "id": "cd636315",
   "metadata": {},
   "outputs": [
    {
     "data": {
      "image/png": "[encoded data removed]",
      "text/plain": [
       "<Figure size 640x480 with 1 Axes>"
      ]
     },
     "metadata": {},
     "output_type": "display_data"
    }
   ],
   "source": [
    "# bar chart of rate fees by each product\n",
    "plt.style.use(\"fivethirtyeight\")\n",
    "plt.bar(rate_fees_by_product.index, rate_fees_by_product,color=\"g\")\n",
    "plt.xlabel('Product')\n",
    "plt.ylabel('Rate fee')\n",
    "plt.title('Bar Chart of Rate Fees by Product')\n",
    "plt.tight_layout\n",
    "plt.show()"
   ]
  },
  {
   "cell_type": "code",
   "execution_count": 21,
   "id": "2912b582",
   "metadata": {},
   "outputs": [
    {
     "data": {
      "image/png": "[encoded data removed]",
      "text/plain": [
       "<Figure size 1000x600 with 1 Axes>"
      ]
     },
     "metadata": {},
     "output_type": "display_data"
    }
   ],
   "source": [
    "# Plot histogram of transaction amounts for each product\n",
    "plt.figure(figsize=(10,6))\n",
    "sns.countplot(x='product', data=df_2021)\n",
    "plt.title('Distribution of Transaction Amounts by Product')\n",
    "plt.show()"
   ]
  },
  {
   "cell_type": "code",
   "execution_count": 22,
   "id": "949e3c6e",
   "metadata": {},
   "outputs": [
    {
     "data": {
      "text/plain": [
       "<Axes: xlabel='product', ylabel='total_fees'>"
      ]
     },
     "execution_count": 22,
     "metadata": {},
     "output_type": "execute_result"
    },
    {
     "data": {
      "image/png": "[encoded data removed]",
      "text/plain": [
       "<Figure size 640x480 with 1 Axes>"
      ]
     },
     "metadata": {},
     "output_type": "display_data"
    }
   ],
   "source": [
    "#  boxplot to compare the revenue distributions of products.\n",
    "sns.boxplot(x='product',y='total_fees',data=df_2021)"
   ]
  },
  {
   "cell_type": "code",
   "execution_count": 23,
   "id": "bcb425eb",
   "metadata": {},
   "outputs": [
    {
     "name": "stderr",
     "output_type": "stream",
     "text": [
      "C:\\Users\\Ahmed Cyber\\AppData\\Local\\Temp\\ipykernel_10712\\3303839449.py:2: FutureWarning: The default value of numeric_only in DataFrame.corr is deprecated. In a future version, it will default to False. Select only valid columns or specify the value of numeric_only to silence this warning.\n",
      "  corr = df_2021.corr()\n"
     ]
    },
    {
     "data": {
      "text/plain": [
       "<Axes: >"
      ]
     },
     "execution_count": 23,
     "metadata": {},
     "output_type": "execute_result"
    },
    {
     "data": {
      "image/png": "[encoded data removed]",
      "text/plain": [
       "<Figure size 640x480 with 2 Axes>"
      ]
     },
     "metadata": {},
     "output_type": "display_data"
    }
   ],
   "source": [
    "# explore the relationships between different numerical variables in the DataFrame\n",
    "corr = df_2021.corr()\n",
    "sns.heatmap(corr, annot=True)"
   ]
  },
  {
   "cell_type": "code",
   "execution_count": 24,
   "id": "caed7f4a",
   "metadata": {},
   "outputs": [],
   "source": [
    "#filter data to calculate growth rate\n",
    "month_12 = df_2021[(df_2021['date'].dt.month == 12)] \n",
    "month_1 =  df_2021[(df_2021['date'].dt.month == 1)]"
   ]
  },
  {
   "cell_type": "code",
   "execution_count": 25,
   "id": "bb749b99",
   "metadata": {},
   "outputs": [],
   "source": [
    "#find total fees for each product for January and December\n",
    "total_sales_month_12 = month_12.groupby(\"product\")[\"total_fees\"].sum()\n",
    "total_sales_month_1 = month_1.groupby(\"product\")[\"total_fees\"].sum()"
   ]
  },
  {
   "cell_type": "code",
   "execution_count": 26,
   "id": "c688a2d0",
   "metadata": {
    "scrolled": true
   },
   "outputs": [
    {
     "data": {
      "text/plain": [
       "product\n",
       "pos    175.141630\n",
       "pp      90.476212\n",
       "pr      17.566784\n",
       "Name: total_fees, dtype: float64"
      ]
     },
     "execution_count": 26,
     "metadata": {},
     "output_type": "execute_result"
    }
   ],
   "source": [
    "#calculate growth_rate for each product\n",
    "growth_rate = (total_sales_month_12-total_sales_month_1)/total_sales_month_1 *100\n",
    "growth_rate"
   ]
  },
  {
   "cell_type": "code",
   "execution_count": 27,
   "id": "105affde",
   "metadata": {},
   "outputs": [],
   "source": [
    "df_2021.to_csv('new_data1.csv')"
   ]
  },
  {
   "cell_type": "markdown",
   "id": "64ee09eb",
   "metadata": {},
   "source": [
    "FINAL REPORT"
   ]
  },
  {
   "cell_type": "raw",
   "id": "678ab4e5",
   "metadata": {},
   "source": [
    "To determine which product to allocate more resources to, we need to consider several factors:\n",
    "\n",
    "1-Revenue Potential: The product with the highest revenue is Payment Requests (PR) with $512,650.32.\n",
    "\n",
    "2-Growth Potential: The product with the highest growth rate is Point-of-Sale (POS) with 175%.\n",
    "\n",
    "3-Profitability: We can calculate the average revenue per transaction by subtracting the average flat fee and the rate fee from the average revenue. The product with the highest average revenue per transaction is Payment Requests (PR) with $29.958.\n",
    "\n",
    "Based on these factors, the recommendation would be to allocate more resources to Payment Requests (PR). It has the highest revenue, a reasonable growth rate, and the highest average revenue per transaction. By focusing on Payment Requests, Kashier can potentially increase revenue, improve profitability, and leverage the existing growth rate to further enhance market share and customer satisfaction.\n",
    "\n",
    "However, it's essential to consider other factors such as market demand, customer preferences, and the overall business strategy before making a final decision on resource allocation."
   ]
  }
 ],
 "metadata": {
  "kernelspec": {
   "display_name": "Python 3 (ipykernel)",
   "language": "python",
   "name": "python3"
  },
  "language_info": {
   "codemirror_mode": {
    "name": "ipython",
    "version": 3
   },
   "file_extension": ".py",
   "mimetype": "text/x-python",
   "name": "python",
   "nbconvert_exporter": "python",
   "pygments_lexer": "ipython3",
   "version": "3.10.9"
  }
 },
 "nbformat": 4,
 "nbformat_minor": 5
}
